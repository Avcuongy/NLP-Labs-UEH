{
 "cells": [
  {
   "cell_type": "code",
   "execution_count": 11,
   "id": "3b5d8ff4",
   "metadata": {},
   "outputs": [],
   "source": [
    "import nltk"
   ]
  },
  {
   "cell_type": "code",
   "execution_count": 12,
   "id": "dbd73172",
   "metadata": {},
   "outputs": [
    {
     "data": {
      "text/plain": [
       "{'last_letter': 'k'}"
      ]
     },
     "execution_count": 12,
     "metadata": {},
     "output_type": "execute_result"
    }
   ],
   "source": [
    "def gender_features(word): \n",
    "    return {'last_letter': word[-1]} \n",
    "gender_features('Shrek') \n",
    "{'last_letter': 'k'}"
   ]
  },
  {
   "cell_type": "code",
   "execution_count": 13,
   "id": "0d78b556",
   "metadata": {},
   "outputs": [
    {
     "name": "stderr",
     "output_type": "stream",
     "text": [
      "[nltk_data] Downloading package names to C:\\Users\\DANG\n",
      "[nltk_data]     CUONG\\AppData\\Roaming\\nltk_data...\n",
      "[nltk_data]   Package names is already up-to-date!\n"
     ]
    },
    {
     "data": {
      "text/plain": [
       "True"
      ]
     },
     "execution_count": 13,
     "metadata": {},
     "output_type": "execute_result"
    }
   ],
   "source": [
    "nltk.download('names')"
   ]
  },
  {
   "cell_type": "code",
   "execution_count": 14,
   "id": "7b5ac15f",
   "metadata": {},
   "outputs": [],
   "source": [
    "from nltk.corpus import names\n",
    "\n",
    "labeled_names = ([(name, 'male') for name in names.words('male.txt')] + [(name, 'female') for name in names.words('female.txt')])\n",
    "\n",
    "import random \n",
    "random.shuffle(labeled_names)"
   ]
  },
  {
   "cell_type": "code",
   "execution_count": 15,
   "id": "98f1bc10",
   "metadata": {},
   "outputs": [],
   "source": [
    "featuresets = [(gender_features(n), gender) for (n, gender) in labeled_names]\n",
    "\n",
    "train_set, test_set = featuresets[500:], featuresets[:500]\n",
    "\n",
    "classifier = nltk.NaiveBayesClassifier.train(train_set)"
   ]
  },
  {
   "cell_type": "code",
   "execution_count": 16,
   "metadata": {},
   "outputs": [
    {
     "data": {
      "text/plain": [
       "'male'"
      ]
     },
     "execution_count": 16,
     "metadata": {},
     "output_type": "execute_result"
    }
   ],
   "source": [
    "classifier.classify(gender_features('Neo')) "
   ]
  },
  {
   "cell_type": "code",
   "execution_count": 17,
   "id": "f6e97b63",
   "metadata": {},
   "outputs": [
    {
     "data": {
      "text/plain": [
       "'female'"
      ]
     },
     "execution_count": 17,
     "metadata": {},
     "output_type": "execute_result"
    }
   ],
   "source": [
    "classifier.classify(gender_features('Trinity')) "
   ]
  },
  {
   "cell_type": "code",
   "execution_count": 18,
   "id": "9dd66bd7",
   "metadata": {},
   "outputs": [
    {
     "name": "stdout",
     "output_type": "stream",
     "text": [
      "0.778\n"
     ]
    }
   ],
   "source": [
    "print(nltk.classify.accuracy(classifier, test_set))"
   ]
  },
  {
   "cell_type": "code",
   "execution_count": 19,
   "id": "46f21b6e",
   "metadata": {},
   "outputs": [
    {
     "name": "stdout",
     "output_type": "stream",
     "text": [
      "Most Informative Features\n",
      "             last_letter = 'a'            female : male   =     35.5 : 1.0\n",
      "             last_letter = 'k'              male : female =     31.6 : 1.0\n",
      "             last_letter = 'p'              male : female =     18.6 : 1.0\n",
      "             last_letter = 'f'              male : female =     15.9 : 1.0\n",
      "             last_letter = 'm'              male : female =     10.4 : 1.0\n"
     ]
    }
   ],
   "source": [
    "classifier.show_most_informative_features(5)"
   ]
  },
  {
   "cell_type": "markdown",
   "id": "18039a5e",
   "metadata": {},
   "source": [
    "---"
   ]
  },
  {
   "cell_type": "code",
   "execution_count": 20,
   "id": "5e27680e",
   "metadata": {},
   "outputs": [],
   "source": [
    "from nltk.classify import apply_features "
   ]
  },
  {
   "cell_type": "code",
   "execution_count": 21,
   "id": "23cd2af6",
   "metadata": {},
   "outputs": [],
   "source": [
    "train_set = apply_features(gender_features, labeled_names[500:]) \n",
    "test_set = apply_features(gender_features, labeled_names[:500])"
   ]
  },
  {
   "cell_type": "code",
   "execution_count": 22,
   "id": "c1a85a50",
   "metadata": {},
   "outputs": [],
   "source": [
    "def gender_features2(name): \n",
    "    features = {} \n",
    "    features[\"first_letter\"] = name[0].lower() \n",
    "    features[\"last_letter\"] = name[-1].lower() \n",
    "    for letter in 'abcdefghijklmnopqrstuvwxyz': \n",
    "        features[\"count({})\".format(letter)] = name.lower().count(letter) \n",
    "        features[\"has({})\".format(letter)] = (letter in name.lower()) \n",
    "    return features"
   ]
  },
  {
   "cell_type": "code",
   "execution_count": 23,
   "id": "54306d65",
   "metadata": {},
   "outputs": [
    {
     "name": "stdout",
     "output_type": "stream",
     "text": [
      "0.792\n"
     ]
    }
   ],
   "source": [
    "featuresets = [(gender_features2(n), gender) for (n, gender) in labeled_names] \n",
    "train_set, test_set = featuresets[500:], featuresets[:500] \n",
    "classifier = nltk.NaiveBayesClassifier.train(train_set) \n",
    "print(nltk.classify.accuracy(classifier, test_set)) "
   ]
  },
  {
   "cell_type": "code",
   "execution_count": 24,
   "id": "e6f92ae8",
   "metadata": {},
   "outputs": [],
   "source": [
    "train_names = labeled_names[1500:] \n",
    "devtest_names = labeled_names[500:1500] \n",
    "test_names = labeled_names[:500]"
   ]
  },
  {
   "cell_type": "code",
   "execution_count": 25,
   "id": "8f5151b9",
   "metadata": {},
   "outputs": [
    {
     "name": "stdout",
     "output_type": "stream",
     "text": [
      "0.755\n"
     ]
    }
   ],
   "source": [
    "train_set = [(gender_features(n), gender) for (n, gender) in train_names] \n",
    "devtest_set = [(gender_features(n), gender) for (n, gender) in devtest_names] \n",
    "test_set = [(gender_features(n), gender) for (n, gender) in test_names] \n",
    "classifier = nltk.NaiveBayesClassifier.train(train_set)  \n",
    "print(nltk.classify.accuracy(classifier, devtest_set))"
   ]
  },
  {
   "cell_type": "code",
   "execution_count": 26,
   "id": "d9fe6883",
   "metadata": {},
   "outputs": [],
   "source": [
    "errors = [] \n",
    "for (name, tag) in devtest_names:\n",
    "    guess = classifier.classify(gender_features(name)) \n",
    "    if guess != tag: \n",
    "        errors.append( (tag, guess, name) )"
   ]
  },
  {
   "cell_type": "code",
   "execution_count": 27,
   "id": "cbec94c4",
   "metadata": {},
   "outputs": [
    {
     "name": "stdout",
     "output_type": "stream",
     "text": [
      "correct=female   guess=male     name=Abagael                       \n",
      "correct=female   guess=male     name=Abigail                       \n",
      "correct=female   guess=male     name=Adriaens                      \n",
      "correct=female   guess=male     name=Alis                          \n",
      "correct=female   guess=male     name=Alys                          \n",
      "correct=female   guess=male     name=Anabel                        \n",
      "correct=female   guess=male     name=Anais                         \n",
      "correct=female   guess=male     name=Angil                         \n",
      "correct=female   guess=male     name=April                         \n",
      "correct=female   guess=male     name=Arabel                        \n",
      "correct=female   guess=male     name=Avril                         \n",
      "correct=female   guess=male     name=Avrit                         \n",
      "correct=female   guess=male     name=Beatriz                       \n",
      "correct=female   guess=male     name=Beau                          \n",
      "correct=female   guess=male     name=Bell                          \n",
      "correct=female   guess=male     name=Brigit                        \n",
      "correct=female   guess=male     name=Brittan                       \n",
      "correct=female   guess=male     name=Brynn                         \n",
      "correct=female   guess=male     name=Carilyn                       \n",
      "correct=female   guess=male     name=Carlin                        \n",
      "correct=female   guess=male     name=Carolan                       \n",
      "correct=female   guess=male     name=Carolin                       \n",
      "correct=female   guess=male     name=Charin                        \n",
      "correct=female   guess=male     name=Charmian                      \n",
      "correct=female   guess=male     name=Cherilynn                     \n",
      "correct=female   guess=male     name=Cherlyn                       \n",
      "correct=female   guess=male     name=Cleo                          \n",
      "correct=female   guess=male     name=Clo                           \n",
      "correct=female   guess=male     name=Coral                         \n",
      "correct=female   guess=male     name=Coralyn                       \n",
      "correct=female   guess=male     name=Cris                          \n",
      "correct=female   guess=male     name=Cristal                       \n",
      "correct=female   guess=male     name=Dael                          \n",
      "correct=female   guess=male     name=Dion                          \n",
      "correct=female   guess=male     name=Dorcas                        \n",
      "correct=female   guess=male     name=Dyann                         \n",
      "correct=female   guess=male     name=Ellynn                        \n",
      "correct=female   guess=male     name=Estell                        \n",
      "correct=female   guess=male     name=Ethelind                      \n",
      "correct=female   guess=male     name=Evelyn                        \n",
      "correct=female   guess=male     name=Fern                          \n",
      "correct=female   guess=male     name=Fred                          \n",
      "correct=female   guess=male     name=Gaynor                        \n",
      "correct=female   guess=male     name=Gillian                       \n",
      "correct=female   guess=male     name=Glenn                         \n",
      "correct=female   guess=male     name=Glyn                          \n",
      "correct=female   guess=male     name=Gwyn                          \n",
      "correct=female   guess=male     name=Harriet                       \n",
      "correct=female   guess=male     name=Harriot                       \n",
      "correct=female   guess=male     name=Heather                       \n",
      "correct=female   guess=male     name=Hedwig                        \n",
      "correct=female   guess=male     name=Jacklin                       \n",
      "correct=female   guess=male     name=Jannel                        \n",
      "correct=female   guess=male     name=Jaquelyn                      \n",
      "correct=female   guess=male     name=Jenn                          \n",
      "correct=female   guess=male     name=Jerrilyn                      \n",
      "correct=female   guess=male     name=Joannes                       \n",
      "correct=female   guess=male     name=Jocelin                       \n",
      "correct=female   guess=male     name=Jordan                        \n",
      "correct=female   guess=male     name=Juliann                       \n",
      "correct=female   guess=male     name=Karel                         \n",
      "correct=female   guess=male     name=Karil                         \n",
      "correct=female   guess=male     name=Karlen                        \n",
      "correct=female   guess=male     name=Karon                         \n",
      "correct=female   guess=male     name=Katalin                       \n",
      "correct=female   guess=male     name=Katheleen                     \n",
      "correct=female   guess=male     name=Kathryn                       \n",
      "correct=female   guess=male     name=Kellen                        \n",
      "correct=female   guess=male     name=Kial                          \n",
      "correct=female   guess=male     name=Kit                           \n",
      "correct=female   guess=male     name=Koral                         \n",
      "correct=female   guess=male     name=Kristen                       \n",
      "correct=female   guess=male     name=Kristien                      \n",
      "correct=female   guess=male     name=Kylen                         \n",
      "correct=female   guess=male     name=Leeann                        \n",
      "correct=female   guess=male     name=Lilian                        \n",
      "correct=female   guess=male     name=Lou                           \n",
      "correct=female   guess=male     name=Lyndel                        \n",
      "correct=female   guess=male     name=Lynn                          \n",
      "correct=female   guess=male     name=Mab                           \n",
      "correct=female   guess=male     name=Madelin                       \n",
      "correct=female   guess=male     name=Madelon                       \n",
      "correct=female   guess=male     name=Maren                         \n",
      "correct=female   guess=male     name=Marian                        \n",
      "correct=female   guess=male     name=Marin                         \n",
      "correct=female   guess=male     name=Michal                        \n",
      "correct=female   guess=male     name=Nadeen                        \n",
      "correct=female   guess=male     name=Nat                           \n",
      "correct=female   guess=male     name=Pam                           \n",
      "correct=female   guess=male     name=Phyllys                       \n",
      "correct=female   guess=male     name=Rachael                       \n",
      "correct=female   guess=male     name=Rachel                        \n",
      "correct=female   guess=male     name=Ragnhild                      \n",
      "correct=female   guess=male     name=Raquel                        \n",
      "correct=female   guess=male     name=Raven                         \n",
      "correct=female   guess=male     name=Renell                        \n",
      "correct=female   guess=male     name=Ruthann                       \n",
      "correct=female   guess=male     name=Sara-Ann                      \n",
      "correct=female   guess=male     name=Sharon                        \n",
      "correct=female   guess=male     name=Sheilakathryn                 \n",
      "correct=female   guess=male     name=Shel                          \n",
      "correct=female   guess=male     name=Shirl                         \n",
      "correct=female   guess=male     name=Stoddard                      \n",
      "correct=female   guess=male     name=Suzann                        \n",
      "correct=female   guess=male     name=Ted                           \n",
      "correct=female   guess=male     name=Thomasin                      \n",
      "correct=female   guess=male     name=Tim                           \n",
      "correct=female   guess=male     name=Winifred                      \n",
      "correct=female   guess=male     name=Wren                          \n",
      "correct=male     guess=female   name=Abe                           \n",
      "correct=male     guess=female   name=Alfie                         \n",
      "correct=male     guess=female   name=Alix                          \n",
      "correct=male     guess=female   name=Ambrosi                       \n",
      "correct=male     guess=female   name=Anatole                       \n",
      "correct=male     guess=female   name=Anatoly                       \n",
      "correct=male     guess=female   name=Andy                          \n",
      "correct=male     guess=female   name=Angie                         \n",
      "correct=male     guess=female   name=Antone                        \n",
      "correct=male     guess=female   name=Arvie                         \n",
      "correct=male     guess=female   name=Aube                          \n",
      "correct=male     guess=female   name=Barnabe                       \n",
      "correct=male     guess=female   name=Bartie                        \n",
      "correct=male     guess=female   name=Bartolomei                    \n",
      "correct=male     guess=female   name=Bay                           \n",
      "correct=male     guess=female   name=Benny                         \n",
      "correct=male     guess=female   name=Brady                         \n",
      "correct=male     guess=female   name=Broddy                        \n",
      "correct=male     guess=female   name=Bucky                         \n",
      "correct=male     guess=female   name=Chauncey                      \n",
      "correct=male     guess=female   name=Chrissy                       \n",
      "correct=male     guess=female   name=Clarence                      \n",
      "correct=male     guess=female   name=Clemmie                       \n",
      "correct=male     guess=female   name=Connolly                      \n",
      "correct=male     guess=female   name=Corky                         \n",
      "correct=male     guess=female   name=Corrie                        \n",
      "correct=male     guess=female   name=Darcy                         \n",
      "correct=male     guess=female   name=Darth                         \n",
      "correct=male     guess=female   name=Dickie                        \n",
      "correct=male     guess=female   name=Donnie                        \n",
      "correct=male     guess=female   name=Doyle                         \n",
      "correct=male     guess=female   name=Drake                         \n",
      "correct=male     guess=female   name=Dudley                        \n",
      "correct=male     guess=female   name=Duke                          \n",
      "correct=male     guess=female   name=Elmore                        \n",
      "correct=male     guess=female   name=Ely                           \n",
      "correct=male     guess=female   name=Emery                         \n",
      "correct=male     guess=female   name=Erich                         \n",
      "correct=male     guess=female   name=Ezra                          \n",
      "correct=male     guess=female   name=Felix                         \n",
      "correct=male     guess=female   name=Ferdie                        \n",
      "correct=male     guess=female   name=Garvy                         \n",
      "correct=male     guess=female   name=Gerry                         \n",
      "correct=male     guess=female   name=Giavani                       \n",
      "correct=male     guess=female   name=Godfree                       \n",
      "correct=male     guess=female   name=Goose                         \n",
      "correct=male     guess=female   name=Guillaume                     \n",
      "correct=male     guess=female   name=Harvie                        \n",
      "correct=male     guess=female   name=Herculie                      \n",
      "correct=male     guess=female   name=Hermy                         \n",
      "correct=male     guess=female   name=Hillery                       \n",
      "correct=male     guess=female   name=Hirsch                        \n",
      "correct=male     guess=female   name=Horace                        \n",
      "correct=male     guess=female   name=Huey                          \n",
      "correct=male     guess=female   name=Humphrey                      \n",
      "correct=male     guess=female   name=Huntley                       \n",
      "correct=male     guess=female   name=Hymie                         \n",
      "correct=male     guess=female   name=Jeffie                        \n",
      "correct=male     guess=female   name=Joe                           \n",
      "correct=male     guess=female   name=Johnny                        \n",
      "correct=male     guess=female   name=Jory                          \n",
      "correct=male     guess=female   name=Kelley                        \n",
      "correct=male     guess=female   name=Kenny                         \n",
      "correct=male     guess=female   name=Kingsly                       \n",
      "correct=male     guess=female   name=Kyle                          \n",
      "correct=male     guess=female   name=Lawerence                     \n",
      "correct=male     guess=female   name=Lesley                        \n",
      "correct=male     guess=female   name=Levy                          \n",
      "correct=male     guess=female   name=Lindsey                       \n",
      "correct=male     guess=female   name=Lyle                          \n",
      "correct=male     guess=female   name=Maddy                         \n",
      "correct=male     guess=female   name=Marietta                      \n",
      "correct=male     guess=female   name=Marty                         \n",
      "correct=male     guess=female   name=Mattie                        \n",
      "correct=male     guess=female   name=Maurice                       \n",
      "correct=male     guess=female   name=Maurise                       \n",
      "correct=male     guess=female   name=Meredeth                      \n",
      "correct=male     guess=female   name=Mika                          \n",
      "correct=male     guess=female   name=Mortie                        \n",
      "correct=male     guess=female   name=Moshe                         \n",
      "correct=male     guess=female   name=Neale                         \n",
      "correct=male     guess=female   name=Nealy                         \n",
      "correct=male     guess=female   name=Neddie                        \n",
      "correct=male     guess=female   name=Nickie                        \n",
      "correct=male     guess=female   name=Obadiah                       \n",
      "correct=male     guess=female   name=Pace                          \n",
      "correct=male     guess=female   name=Parke                         \n",
      "correct=male     guess=female   name=Pascale                       \n",
      "correct=male     guess=female   name=Patty                         \n",
      "correct=male     guess=female   name=Phillipe                      \n",
      "correct=male     guess=female   name=Piggy                         \n",
      "correct=male     guess=female   name=Price                         \n",
      "correct=male     guess=female   name=Prince                        \n",
      "correct=male     guess=female   name=Rabbi                         \n",
      "correct=male     guess=female   name=Rabi                          \n",
      "correct=male     guess=female   name=Raleigh                       \n",
      "correct=male     guess=female   name=Randie                        \n",
      "correct=male     guess=female   name=Rawley                        \n",
      "correct=male     guess=female   name=Reube                         \n",
      "correct=male     guess=female   name=Ruddy                         \n",
      "correct=male     guess=female   name=Sansone                       \n",
      "correct=male     guess=female   name=Say                           \n",
      "correct=male     guess=female   name=Scotti                        \n",
      "correct=male     guess=female   name=Scottie                       \n",
      "correct=male     guess=female   name=Shayne                        \n",
      "correct=male     guess=female   name=Sheffy                        \n",
      "correct=male     guess=female   name=Sidney                        \n",
      "correct=male     guess=female   name=Skippie                       \n",
      "correct=male     guess=female   name=Smith                         \n",
      "correct=male     guess=female   name=Spence                        \n",
      "correct=male     guess=female   name=Spense                        \n",
      "correct=male     guess=female   name=Sydney                        \n",
      "correct=male     guess=female   name=Temple                        \n",
      "correct=male     guess=female   name=Terry                         \n",
      "correct=male     guess=female   name=Thayne                        \n",
      "correct=male     guess=female   name=Tommie                        \n",
      "correct=male     guess=female   name=Tonnie                        \n",
      "correct=male     guess=female   name=Tre                           \n",
      "correct=male     guess=female   name=Valentine                     \n",
      "correct=male     guess=female   name=Vassili                       \n",
      "correct=male     guess=female   name=Virge                         \n",
      "correct=male     guess=female   name=Vite                          \n",
      "correct=male     guess=female   name=Wash                          \n",
      "correct=male     guess=female   name=Wayne                         \n",
      "correct=male     guess=female   name=Whitby                        \n",
      "correct=male     guess=female   name=Winnie                        \n",
      "correct=male     guess=female   name=Worth                         \n",
      "correct=male     guess=female   name=Wye                           \n",
      "correct=male     guess=female   name=Yancy                         \n",
      "correct=male     guess=female   name=Yankee                        \n",
      "correct=male     guess=female   name=Yardley                       \n",
      "correct=male     guess=female   name=Yehudi                        \n",
      "correct=male     guess=female   name=Zachariah                     \n",
      "correct=male     guess=female   name=Zachery                       \n",
      "correct=male     guess=female   name=Zebedee                       \n",
      "correct=male     guess=female   name=Zippy                         \n"
     ]
    }
   ],
   "source": [
    "for (tag, guess, name) in sorted(errors): \n",
    "    print('correct={:<8} guess={:<8s} name={:<30}'.format(tag, guess, name)) "
   ]
  },
  {
   "cell_type": "code",
   "execution_count": 28,
   "id": "ee191758",
   "metadata": {},
   "outputs": [],
   "source": [
    "def gender_features(word): \n",
    "    return {'suffix1': word[-1:], 'suffix2': word[-2:]}"
   ]
  },
  {
   "cell_type": "code",
   "execution_count": 29,
   "id": "cd8895a2",
   "metadata": {},
   "outputs": [
    {
     "name": "stdout",
     "output_type": "stream",
     "text": [
      "0.777\n"
     ]
    }
   ],
   "source": [
    "train_set = [(gender_features(n), gender) for (n, gender) in train_names] \n",
    "devtest_set = [(gender_features(n), gender) for (n, gender) in devtest_names] \n",
    "classifier = nltk.NaiveBayesClassifier.train(train_set) \n",
    "print(nltk.classify.accuracy(classifier, devtest_set)) "
   ]
  },
  {
   "cell_type": "markdown",
   "id": "f5435fe4",
   "metadata": {},
   "source": [
    "---"
   ]
  },
  {
   "cell_type": "code",
   "execution_count": 45,
   "id": "f6f52873",
   "metadata": {},
   "outputs": [],
   "source": [
    "from sklearn.linear_model import LogisticRegression\n",
    "from nltk.classify.scikitlearn import SklearnClassifier\n",
    "from sklearn.metrics import confusion_matrix, classification_report\n",
    "from sklearn.model_selection import KFold"
   ]
  },
  {
   "cell_type": "code",
   "execution_count": 36,
   "id": "20ac9f3f",
   "metadata": {},
   "outputs": [],
   "source": [
    "classifier = SklearnClassifier(LogisticRegression())"
   ]
  },
  {
   "cell_type": "code",
   "execution_count": 32,
   "id": "ce033dad",
   "metadata": {},
   "outputs": [],
   "source": [
    "train_set = apply_features(gender_features, labeled_names[500:]) \n",
    "test_set = apply_features(gender_features, labeled_names[:500])"
   ]
  },
  {
   "cell_type": "code",
   "execution_count": 37,
   "id": "e4656ac9",
   "metadata": {},
   "outputs": [],
   "source": [
    "featuresets = [(gender_features2(n), gender) for (n, gender) in labeled_names] \n",
    "\n",
    "train_set, test_set = featuresets[500:], featuresets[:500] \n",
    "\n",
    "classifier = classifier.train(train_set)"
   ]
  },
  {
   "cell_type": "code",
   "execution_count": 38,
   "id": "601c32e6",
   "metadata": {},
   "outputs": [
    {
     "name": "stdout",
     "output_type": "stream",
     "text": [
      "0.816\n"
     ]
    }
   ],
   "source": [
    "print(nltk.classify.accuracy(classifier, test_set)) "
   ]
  },
  {
   "cell_type": "code",
   "execution_count": 47,
   "id": "28513954",
   "metadata": {},
   "outputs": [],
   "source": [
    "cross_validation = KFold(n_splits=10, shuffle=True, random_state=42)"
   ]
  },
  {
   "cell_type": "markdown",
   "id": "0f727d78",
   "metadata": {},
   "source": [
    "---\n",
    "\n",
    "# Lab 3"
   ]
  },
  {
   "cell_type": "markdown",
   "id": "e74931c8",
   "metadata": {},
   "source": []
  },
  {
   "cell_type": "code",
   "execution_count": null,
   "id": "6292cd00",
   "metadata": {},
   "outputs": [],
   "source": []
  },
  {
   "cell_type": "code",
   "execution_count": null,
   "id": "68d412e5",
   "metadata": {},
   "outputs": [],
   "source": []
  },
  {
   "cell_type": "code",
   "execution_count": null,
   "id": "74a45ac8",
   "metadata": {},
   "outputs": [],
   "source": []
  }
 ],
 "metadata": {
  "kernelspec": {
   "display_name": "Python 3",
   "language": "python",
   "name": "python3"
  },
  "language_info": {
   "codemirror_mode": {
    "name": "ipython",
    "version": 3
   },
   "file_extension": ".py",
   "mimetype": "text/x-python",
   "name": "python",
   "nbconvert_exporter": "python",
   "pygments_lexer": "ipython3",
   "version": "3.9.10"
  }
 },
 "nbformat": 4,
 "nbformat_minor": 5
}
