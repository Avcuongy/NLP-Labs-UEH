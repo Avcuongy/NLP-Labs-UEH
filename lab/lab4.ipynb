{
 "cells": [
  {
   "cell_type": "code",
   "execution_count": 8,
   "id": "90e7dec1",
   "metadata": {},
   "outputs": [],
   "source": [
    "import pandas as pd\n",
    "\n",
    "splits = {'train': 'ViCTSD_train.csv', 'validation': 'ViCTSD_valid.csv', 'test': 'ViCTSD_test.csv'}"
   ]
  },
  {
   "cell_type": "code",
   "execution_count": 9,
   "id": "aca92752",
   "metadata": {},
   "outputs": [],
   "source": [
    "df = pd.read_csv(\"hf://datasets/tarudesu/ViCTSD/\" + splits[\"train\"])"
   ]
  },
  {
   "cell_type": "markdown",
   "id": "10654005",
   "metadata": {},
   "source": [
    "---"
   ]
  },
  {
   "cell_type": "code",
   "execution_count": 11,
   "id": "1cef863d",
   "metadata": {},
   "outputs": [],
   "source": [
    "df.drop(columns=[\"Unnamed: 0\"], inplace=True)"
   ]
  },
  {
   "cell_type": "code",
   "execution_count": 12,
   "id": "bfb19ae5",
   "metadata": {},
   "outputs": [],
   "source": [
    "df_topic = df[df[\"Topic\"]==\"SucKhoe\"]"
   ]
  },
  {
   "cell_type": "code",
   "execution_count": 13,
   "id": "b97a63ff",
   "metadata": {},
   "outputs": [
    {
     "data": {
      "text/plain": [
       "Index(['Comment', 'Constructiveness', 'Toxicity', 'Title', 'Topic'], dtype='object')"
      ]
     },
     "execution_count": 13,
     "metadata": {},
     "output_type": "execute_result"
    }
   ],
   "source": [
    "df_topic.columns"
   ]
  },
  {
   "cell_type": "code",
   "execution_count": 15,
   "id": "096ca850",
   "metadata": {},
   "outputs": [
    {
     "name": "stderr",
     "output_type": "stream",
     "text": [
      "C:\\Users\\DANG CUONG\\AppData\\Local\\Temp\\ipykernel_22984\\87482473.py:1: SettingWithCopyWarning: \n",
      "A value is trying to be set on a copy of a slice from a DataFrame\n",
      "\n",
      "See the caveats in the documentation: https://pandas.pydata.org/pandas-docs/stable/user_guide/indexing.html#returning-a-view-versus-a-copy\n",
      "  df_topic.drop_duplicates(subset=[\"Title\"], inplace=True)\n"
     ]
    }
   ],
   "source": [
    "df_topic.drop_duplicates(subset=[\"Title\"], inplace=True)"
   ]
  },
  {
   "cell_type": "code",
   "execution_count": 16,
   "id": "75c27406",
   "metadata": {},
   "outputs": [
    {
     "data": {
      "text/plain": [
       "(80, 5)"
      ]
     },
     "execution_count": 16,
     "metadata": {},
     "output_type": "execute_result"
    }
   ],
   "source": [
    "df_topic.shape"
   ]
  },
  {
   "cell_type": "code",
   "execution_count": 18,
   "id": "82ab5044",
   "metadata": {},
   "outputs": [
    {
     "name": "stderr",
     "output_type": "stream",
     "text": [
      "C:\\Users\\DANG CUONG\\AppData\\Local\\Temp\\ipykernel_22984\\480094911.py:1: SettingWithCopyWarning: \n",
      "A value is trying to be set on a copy of a slice from a DataFrame\n",
      "\n",
      "See the caveats in the documentation: https://pandas.pydata.org/pandas-docs/stable/user_guide/indexing.html#returning-a-view-versus-a-copy\n",
      "  df_topic.drop(columns=[\"Constructiveness\", \"Toxicity\"], inplace=True)\n"
     ]
    }
   ],
   "source": [
    "df_topic.drop(columns=[\"Constructiveness\", \"Toxicity\"], inplace=True)"
   ]
  },
  {
   "cell_type": "code",
   "execution_count": 22,
   "id": "c560d48e",
   "metadata": {},
   "outputs": [],
   "source": [
    "df_topic.to_excel(\"SucKhoe.xlsx\", index=False)"
   ]
  }
 ],
 "metadata": {
  "kernelspec": {
   "display_name": "Python 3",
   "language": "python",
   "name": "python3"
  },
  "language_info": {
   "codemirror_mode": {
    "name": "ipython",
    "version": 3
   },
   "file_extension": ".py",
   "mimetype": "text/x-python",
   "name": "python",
   "nbconvert_exporter": "python",
   "pygments_lexer": "ipython3",
   "version": "3.9.10"
  }
 },
 "nbformat": 4,
 "nbformat_minor": 5
}
