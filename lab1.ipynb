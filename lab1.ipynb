{
 "cells": [
  {
   "cell_type": "code",
   "execution_count": 352,
   "id": "02e33397",
   "metadata": {},
   "outputs": [],
   "source": [
    "\n",
    "from collections import Counter\n",
    "\n",
    "import re  \n",
    "\n",
    "import numpy as np\n",
    "import pandas as pd\n",
    "from underthesea import word_tokenize\n",
    "from pyvi import ViTokenizer"
   ]
  },
  {
   "cell_type": "code",
   "execution_count": 353,
   "id": "d7e1cb1f",
   "metadata": {},
   "outputs": [],
   "source": [
    "raw_text = \"\"\"Việt Nam là quốc gia đa tôn giáo và tín ngưỡng. \n",
    "Đa số người Việt Nam không thuộc tổ chức tôn giáo nào nhưng đồng thời nhiều người trong số họ thực hành tín ngưỡng dân gian. \n",
    "Phật giáo du nhập vào cùng với Nho giáo và Đạo giáo (gọi chung là tam giáo) có ảnh hưởng tới văn hóa Việt Nam. \n",
    "Phật giáo Việt Nam đa số thuộc Đại thừa và từng có vị thế như quốc giáo thời Nhà Lý và Nhà Trần. \n",
    "Nho giáo đạt vị trí độc tôn dưới thời Lê sơ và Nguyễn sơ.\n",
    "Một số tư tưởng Nho giáo cho tới nay vẫn giữ vai trò nhất định trong trật tự xã hội Việt Nam.\n",
    "Công giáo truyền vào từ thế kỷ 16; nền tảng của Công giáo Việt Nam được thiết lập vững chắc vào thế kỷ 17 bởi các thừa sai Dòng Tên Bồ Đào Nha và Ý.\n",
    "Tin Lành truyền giảng tại Việt Nam từ đầu thế kỷ 20 bởi Hội Truyền giáo Phúc âm Liên hiệp. Ấn Độ giáo và sau này Hồi giáo truyền vào Chăm Pa.\n",
    "Bên cạnh các tôn giáo thế giới, Việt Nam còn có một số tôn giáo nội sinh như đạo Cao Đài và đạo Hòa Hảo.\"\"\"\n"
   ]
  },
  {
   "cell_type": "code",
   "execution_count": 354,
   "id": "6e01bf58",
   "metadata": {},
   "outputs": [],
   "source": [
    "raw_text = \"\"\"Việt Nam là quốc gia đa tôn giáo và tín ngưỡng. \n",
    "Đa số người Việt Nam không thuộc tổ chức tôn giáo nào nhưng đồng thời nhiều người trong số họ thực hành tín ngưỡng dân gian. \n",
    "Phật giáo du nhập vào cùng với Nho giáo và Đạo giáo (gọi chung là tam giáo) có ảnh hưởng tới văn hóa Việt Nam.\"\"\""
   ]
  },
  {
   "cell_type": "code",
   "execution_count": 355,
   "id": "7a0ad9f9",
   "metadata": {},
   "outputs": [
    {
     "data": {
      "text/plain": [
       "'Việt Nam là quốc gia đa tôn giáo và tín ngưỡng Đa số người Việt Nam không thuộc tổ chức tôn giáo nào nhưng đồng thời nhiều người trong số họ thực hành tín ngưỡng dân gian Phật giáo du nhập vào cùng với Nho giáo và Đạo giáo gọi chung là tam giáo có ảnh hưởng tới văn hóa Việt Nam'"
      ]
     },
     "execution_count": 355,
     "metadata": {},
     "output_type": "execute_result"
    }
   ],
   "source": [
    "clean_text = re.sub(r'[^A-Za-zÀ-ỹ0-9\\s]', '', raw_text)\n",
    "clean_text = re.sub(r'\\s+', ' ', clean_text).strip()\n",
    "\n",
    "clean_text"
   ]
  },
  {
   "cell_type": "markdown",
   "id": "b70354f6",
   "metadata": {},
   "source": [
    "# Tách từ với 2 cấp độ từ đơn, từ ghép 2 chữ"
   ]
  },
  {
   "cell_type": "code",
   "execution_count": 356,
   "id": "a1872376",
   "metadata": {},
   "outputs": [
    {
     "name": "stdout",
     "output_type": "stream",
     "text": [
      "Số lượng từ: 62\n",
      "Việt\n",
      "Nam\n",
      "là\n",
      "quốc\n",
      "gia\n",
      "đa\n",
      "tôn\n",
      "giáo\n",
      "và\n",
      "tín\n",
      "ngưỡng\n",
      "Đa\n",
      "số\n",
      "người\n",
      "Việt\n",
      "Nam\n",
      "không\n",
      "thuộc\n",
      "tổ\n",
      "chức\n",
      "tôn\n",
      "giáo\n",
      "nào\n",
      "nhưng\n",
      "đồng\n",
      "thời\n",
      "nhiều\n",
      "người\n",
      "trong\n",
      "số\n",
      "họ\n",
      "thực\n",
      "hành\n",
      "tín\n",
      "ngưỡng\n",
      "dân\n",
      "gian\n",
      "Phật\n",
      "giáo\n",
      "du\n",
      "nhập\n",
      "vào\n",
      "cùng\n",
      "với\n",
      "Nho\n",
      "giáo\n",
      "và\n",
      "Đạo\n",
      "giáo\n",
      "gọi\n",
      "chung\n",
      "là\n",
      "tam\n",
      "giáo\n",
      "có\n",
      "ảnh\n",
      "hưởng\n",
      "tới\n",
      "văn\n",
      "hóa\n",
      "Việt\n",
      "Nam\n"
     ]
    }
   ],
   "source": [
    "single_word_list = clean_text.split()\n",
    "print(f\"Số lượng từ: {len(single_word_list)}\")\n",
    "\n",
    "for w in single_word_list:\n",
    "    print(w)"
   ]
  },
  {
   "cell_type": "code",
   "execution_count": 357,
   "id": "e84a729c",
   "metadata": {},
   "outputs": [
    {
     "name": "stdout",
     "output_type": "stream",
     "text": [
      "Số lượng từ: 61\n",
      "Việt Nam\n",
      "Nam là\n",
      "là quốc\n",
      "quốc gia\n",
      "gia đa\n",
      "đa tôn\n",
      "tôn giáo\n",
      "giáo và\n",
      "và tín\n",
      "tín ngưỡng\n",
      "ngưỡng Đa\n",
      "Đa số\n",
      "số người\n",
      "người Việt\n",
      "Việt Nam\n",
      "Nam không\n",
      "không thuộc\n",
      "thuộc tổ\n",
      "tổ chức\n",
      "chức tôn\n",
      "tôn giáo\n",
      "giáo nào\n",
      "nào nhưng\n",
      "nhưng đồng\n",
      "đồng thời\n",
      "thời nhiều\n",
      "nhiều người\n",
      "người trong\n",
      "trong số\n",
      "số họ\n",
      "họ thực\n",
      "thực hành\n",
      "hành tín\n",
      "tín ngưỡng\n",
      "ngưỡng dân\n",
      "dân gian\n",
      "gian Phật\n",
      "Phật giáo\n",
      "giáo du\n",
      "du nhập\n",
      "nhập vào\n",
      "vào cùng\n",
      "cùng với\n",
      "với Nho\n",
      "Nho giáo\n",
      "giáo và\n",
      "và Đạo\n",
      "Đạo giáo\n",
      "giáo gọi\n",
      "gọi chung\n",
      "chung là\n",
      "là tam\n",
      "tam giáo\n",
      "giáo có\n",
      "có ảnh\n",
      "ảnh hưởng\n",
      "hưởng tới\n",
      "tới văn\n",
      "văn hóa\n",
      "hóa Việt\n",
      "Việt Nam\n"
     ]
    }
   ],
   "source": [
    "double_word_list = [\" \".join([single_word_list[i], single_word_list[i+1]]) for i in range(len(single_word_list)-1)]\n",
    "print(f\"Số lượng từ: {len(double_word_list)}\")\n",
    "\n",
    "for w in double_word_list:\n",
    "    print(w)"
   ]
  },
  {
   "cell_type": "markdown",
   "id": "03ef9f29",
   "metadata": {},
   "source": [
    "# Use the `Viet74K.txt`"
   ]
  },
  {
   "cell_type": "code",
   "execution_count": 358,
   "id": "115b0617",
   "metadata": {},
   "outputs": [
    {
     "name": "stdout",
     "output_type": "stream",
     "text": [
      "Số lượng từ: 72548\n"
     ]
    }
   ],
   "source": [
    "with open(\"assets/Viet74K.txt\", \"r\", encoding=\"utf-8\") as f:\n",
    "    dictionary = f.read().splitlines()\n",
    "    dictionary = set([w.lower() for w in dictionary])\n",
    "    \n",
    "print(f\"Số lượng từ: {len(dictionary)}\")"
   ]
  },
  {
   "cell_type": "code",
   "execution_count": 359,
   "id": "71208e07",
   "metadata": {},
   "outputs": [
    {
     "name": "stdout",
     "output_type": "stream",
     "text": [
      "Số lượng từ: 61\n",
      "Việt\n",
      "Nam\n",
      "là\n",
      "quốc\n",
      "gia\n",
      "đa\n",
      "tôn\n",
      "giáo\n",
      "và\n",
      "tín\n",
      "ngưỡng\n",
      "Đa\n",
      "số\n",
      "người\n",
      "Việt\n",
      "Nam\n",
      "không\n",
      "thuộc\n",
      "tổ\n",
      "chức\n",
      "tôn\n",
      "giáo\n",
      "nào\n",
      "nhưng\n",
      "đồng\n",
      "thời\n",
      "nhiều\n",
      "người\n",
      "trong\n",
      "số\n",
      "họ\n",
      "thực\n",
      "hành\n",
      "tín\n",
      "ngưỡng\n",
      "dân\n",
      "gian\n",
      "Phật\n",
      "giáo\n",
      "du\n",
      "nhập\n",
      "vào\n",
      "cùng\n",
      "với\n",
      "Nho\n",
      "giáo\n",
      "và\n",
      "Đạo\n",
      "giáo\n",
      "gọi\n",
      "chung\n",
      "là\n",
      "tam\n",
      "giáo\n",
      "có\n",
      "ảnh\n",
      "hưởng\n",
      "tới\n",
      "văn\n",
      "Việt\n",
      "Nam\n"
     ]
    }
   ],
   "source": [
    "single_word_list_exist = [word for word in single_word_list if word.lower() in dictionary]\n",
    "print(f\"Số lượng từ: {len(single_word_list_exist)}\")\n",
    "for w in single_word_list_exist:\n",
    "    print(w)"
   ]
  },
  {
   "cell_type": "code",
   "execution_count": 360,
   "id": "5a1f4276",
   "metadata": {},
   "outputs": [
    {
     "name": "stdout",
     "output_type": "stream",
     "text": [
      "Số lượng từ: 20\n",
      "Việt Nam\n",
      "quốc gia\n",
      "tôn giáo\n",
      "tín ngưỡng\n",
      "Đa số\n",
      "Việt Nam\n",
      "tổ chức\n",
      "tôn giáo\n",
      "đồng thời\n",
      "thực hành\n",
      "tín ngưỡng\n",
      "dân gian\n",
      "Phật giáo\n",
      "du nhập\n",
      "cùng với\n",
      "Nho giáo\n",
      "Đạo giáo\n",
      "tam giáo\n",
      "ảnh hưởng\n",
      "Việt Nam\n"
     ]
    }
   ],
   "source": [
    "double_word_list_exist = [word for word in double_word_list if word.lower() in dictionary]\n",
    "print(f\"Số lượng từ: {len(double_word_list_exist)}\")\n",
    "for w in double_word_list_exist:\n",
    "    print(w)"
   ]
  },
  {
   "cell_type": "code",
   "execution_count": 361,
   "id": "6cc2f174",
   "metadata": {},
   "outputs": [
    {
     "name": "stdout",
     "output_type": "stream",
     "text": [
      "Số lượng từ: 81\n"
     ]
    }
   ],
   "source": [
    "manually_word_list = single_word_list_exist + double_word_list_exist\n",
    "print(f\"Số lượng từ: {len(manually_word_list)}\")"
   ]
  },
  {
   "cell_type": "markdown",
   "id": "36a8f8b7",
   "metadata": {},
   "source": [
    "# Sử dụng pyvi hoặc underthesea để tách từ"
   ]
  },
  {
   "cell_type": "code",
   "execution_count": 362,
   "id": "e71de0ec",
   "metadata": {},
   "outputs": [
    {
     "name": "stdout",
     "output_type": "stream",
     "text": [
      "Số lượng từ: 42\n",
      "Việt Nam\n",
      "là\n",
      "quốc gia\n",
      "đa\n",
      "tôn giáo\n",
      "và\n",
      "tín ngưỡng\n",
      "Đa số\n",
      "người\n",
      "Việt Nam\n",
      "không\n",
      "thuộc\n",
      "tổ chức\n",
      "tôn giáo\n",
      "nào\n",
      "nhưng\n",
      "đồng thời\n",
      "nhiều\n",
      "người\n",
      "trong\n",
      "số\n",
      "họ\n",
      "thực hành\n",
      "tín ngưỡng\n",
      "dân gian\n",
      "Phật giáo\n",
      "du nhập\n",
      "vào\n",
      "cùng\n",
      "với\n",
      "Nho giáo\n",
      "và\n",
      "Đạo giáo\n",
      "gọi\n",
      "chung\n",
      "là\n",
      "tam giáo\n",
      "có\n",
      "ảnh hưởng\n",
      "tới\n",
      "văn hóa\n",
      "Việt Nam\n"
     ]
    }
   ],
   "source": [
    "word_tokenized = word_tokenize(clean_text)\n",
    "print(f\"Số lượng từ: {len(word_tokenized)}\")\n",
    "for w in word_tokenized:\n",
    "    print(w)"
   ]
  },
  {
   "cell_type": "markdown",
   "id": "e94fcb69",
   "metadata": {},
   "source": [
    "# Thống kê số lượng từ tách đúng trong hai phương án kể trên"
   ]
  },
  {
   "cell_type": "code",
   "execution_count": 363,
   "id": "f2c59a7e",
   "metadata": {},
   "outputs": [
    {
     "name": "stdout",
     "output_type": "stream",
     "text": [
      "Việt: 3\n",
      "Nam: 3\n",
      "là: 2\n",
      "quốc: 1\n",
      "gia: 1\n",
      "đa: 1\n",
      "tôn: 2\n",
      "giáo: 6\n",
      "và: 2\n",
      "tín: 2\n",
      "ngưỡng: 2\n",
      "Đa: 1\n",
      "số: 2\n",
      "người: 2\n",
      "không: 1\n",
      "thuộc: 1\n",
      "tổ: 1\n",
      "chức: 1\n",
      "nào: 1\n",
      "nhưng: 1\n",
      "đồng: 1\n",
      "thời: 1\n",
      "nhiều: 1\n",
      "trong: 1\n",
      "họ: 1\n",
      "thực: 1\n",
      "hành: 1\n",
      "dân: 1\n",
      "gian: 1\n",
      "Phật: 1\n",
      "du: 1\n",
      "nhập: 1\n",
      "vào: 1\n",
      "cùng: 1\n",
      "với: 1\n",
      "Nho: 1\n",
      "Đạo: 1\n",
      "gọi: 1\n",
      "chung: 1\n",
      "tam: 1\n",
      "có: 1\n",
      "ảnh: 1\n",
      "hưởng: 1\n",
      "tới: 1\n",
      "văn: 1\n",
      "Việt Nam: 3\n",
      "quốc gia: 1\n",
      "tôn giáo: 2\n",
      "tín ngưỡng: 2\n",
      "Đa số: 1\n",
      "tổ chức: 1\n",
      "đồng thời: 1\n",
      "thực hành: 1\n",
      "dân gian: 1\n",
      "Phật giáo: 1\n",
      "du nhập: 1\n",
      "cùng với: 1\n",
      "Nho giáo: 1\n",
      "Đạo giáo: 1\n",
      "tam giáo: 1\n",
      "ảnh hưởng: 1\n"
     ]
    }
   ],
   "source": [
    "statistic_manually = Counter(manually_word_list)\n",
    "for key, value in statistic_manually.items():\n",
    "    print(f\"{key}: {value}\")"
   ]
  },
  {
   "cell_type": "code",
   "execution_count": 364,
   "id": "8f127b91",
   "metadata": {},
   "outputs": [
    {
     "name": "stdout",
     "output_type": "stream",
     "text": [
      "Việt Nam: 3\n",
      "là: 2\n",
      "quốc gia: 1\n",
      "đa: 1\n",
      "tôn giáo: 2\n",
      "và: 2\n",
      "tín ngưỡng: 2\n",
      "Đa số: 1\n",
      "người: 2\n",
      "không: 1\n",
      "thuộc: 1\n",
      "tổ chức: 1\n",
      "nào: 1\n",
      "nhưng: 1\n",
      "đồng thời: 1\n",
      "nhiều: 1\n",
      "trong: 1\n",
      "số: 1\n",
      "họ: 1\n",
      "thực hành: 1\n",
      "dân gian: 1\n",
      "Phật giáo: 1\n",
      "du nhập: 1\n",
      "vào: 1\n",
      "cùng: 1\n",
      "với: 1\n",
      "Nho giáo: 1\n",
      "Đạo giáo: 1\n",
      "gọi: 1\n",
      "chung: 1\n",
      "tam giáo: 1\n",
      "có: 1\n",
      "ảnh hưởng: 1\n",
      "tới: 1\n",
      "văn hóa: 1\n"
     ]
    }
   ],
   "source": [
    "statistic_lib = Counter(word_tokenized)\n",
    "for key, value in statistic_lib.items():\n",
    "    print(f\"{key}: {value}\")"
   ]
  }
 ],
 "metadata": {
  "kernelspec": {
   "display_name": "Python 3",
   "language": "python",
   "name": "python3"
  },
  "language_info": {
   "codemirror_mode": {
    "name": "ipython",
    "version": 3
   },
   "file_extension": ".py",
   "mimetype": "text/x-python",
   "name": "python",
   "nbconvert_exporter": "python",
   "pygments_lexer": "ipython3",
   "version": "3.9.10"
  }
 },
 "nbformat": 4,
 "nbformat_minor": 5
}
