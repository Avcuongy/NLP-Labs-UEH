{
 "cells": [
  {
   "cell_type": "code",
   "id": "a144725a",
   "metadata": {
    "ExecuteTime": {
     "end_time": "2025-10-11T13:43:21.187385Z",
     "start_time": "2025-10-11T13:43:21.179116Z"
    }
   },
   "source": [
    "print('hello')"
   ],
   "outputs": [
    {
     "name": "stdout",
     "output_type": "stream",
     "text": [
      "hello\n"
     ]
    }
   ],
   "execution_count": 1
  },
  {
   "cell_type": "code",
   "execution_count": null,
   "id": "28cc7273",
   "metadata": {},
   "outputs": [],
   "source": []
  }
 ],
 "metadata": {
  "kernelspec": {
   "display_name": "Python 3",
   "language": "python",
   "name": "python3"
  },
  "language_info": {
   "name": "python",
   "version": "3.14.0"
  }
 },
 "nbformat": 4,
 "nbformat_minor": 5
}
